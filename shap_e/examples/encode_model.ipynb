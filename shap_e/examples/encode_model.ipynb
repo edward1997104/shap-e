{
 "cells": [
  {
   "cell_type": "code",
   "execution_count": 2,
   "metadata": {},
   "outputs": [],
   "source": [
    "import torch\n",
    "\n",
    "from shap_e.models.download import load_model\n",
    "from shap_e.util.data_util import load_or_create_multimodal_batch\n",
    "from shap_e.util.notebooks import create_pan_cameras, decode_latent_images, gif_widget"
   ]
  },
  {
   "cell_type": "code",
   "execution_count": 3,
   "metadata": {},
   "outputs": [],
   "source": [
    "device = torch.device('cuda' if torch.cuda.is_available() else 'cpu')"
   ]
  },
  {
   "cell_type": "code",
   "execution_count": 4,
   "metadata": {},
   "outputs": [
    {
     "data": {
      "text/plain": "  0%|          | 0.00/1.78G [00:00<?, ?iB/s]",
      "application/vnd.jupyter.widget-view+json": {
       "version_major": 2,
       "version_minor": 0,
       "model_id": "6c656c01cf684b699432a5512a5cd24f"
      }
     },
     "metadata": {},
     "output_type": "display_data"
    }
   ],
   "source": [
    "xm = load_model('transmitter', device=device)"
   ]
  },
  {
   "cell_type": "code",
   "execution_count": 5,
   "metadata": {},
   "outputs": [
    {
     "name": "stdout",
     "output_type": "stream",
     "text": [
      "creating point cloud...\n"
     ]
    },
    {
     "ename": "OSError",
     "evalue": "To render 3D models, install Blender version 3.3.1 or higher and set the environment variable `BLENDER_PATH` to the path of the Blender executable.",
     "output_type": "error",
     "traceback": [
      "\u001B[1;31m---------------------------------------------------------------------------\u001B[0m",
      "\u001B[1;31mOSError\u001B[0m                                   Traceback (most recent call last)",
      "Input \u001B[1;32mIn [5]\u001B[0m, in \u001B[0;36m<cell line: 5>\u001B[1;34m()\u001B[0m\n\u001B[0;32m      1\u001B[0m model_path \u001B[38;5;241m=\u001B[39m \u001B[38;5;124m\"\u001B[39m\u001B[38;5;124mexample_data/cactus/object.obj\u001B[39m\u001B[38;5;124m\"\u001B[39m\n\u001B[0;32m      3\u001B[0m \u001B[38;5;66;03m# This may take a few minutes, since it requires rendering the model twice\u001B[39;00m\n\u001B[0;32m      4\u001B[0m \u001B[38;5;66;03m# in two different modes.\u001B[39;00m\n\u001B[1;32m----> 5\u001B[0m batch \u001B[38;5;241m=\u001B[39m \u001B[43mload_or_create_multimodal_batch\u001B[49m\u001B[43m(\u001B[49m\n\u001B[0;32m      6\u001B[0m \u001B[43m    \u001B[49m\u001B[43mdevice\u001B[49m\u001B[43m,\u001B[49m\n\u001B[0;32m      7\u001B[0m \u001B[43m    \u001B[49m\u001B[43mmodel_path\u001B[49m\u001B[38;5;241;43m=\u001B[39;49m\u001B[43mmodel_path\u001B[49m\u001B[43m,\u001B[49m\n\u001B[0;32m      8\u001B[0m \u001B[43m    \u001B[49m\u001B[43mmv_light_mode\u001B[49m\u001B[38;5;241;43m=\u001B[39;49m\u001B[38;5;124;43m\"\u001B[39;49m\u001B[38;5;124;43mbasic\u001B[39;49m\u001B[38;5;124;43m\"\u001B[39;49m\u001B[43m,\u001B[49m\n\u001B[0;32m      9\u001B[0m \u001B[43m    \u001B[49m\u001B[43mmv_image_size\u001B[49m\u001B[38;5;241;43m=\u001B[39;49m\u001B[38;5;241;43m256\u001B[39;49m\u001B[43m,\u001B[49m\n\u001B[0;32m     10\u001B[0m \u001B[43m    \u001B[49m\u001B[43mcache_dir\u001B[49m\u001B[38;5;241;43m=\u001B[39;49m\u001B[38;5;124;43m\"\u001B[39;49m\u001B[38;5;124;43mexample_data/cactus/cached\u001B[39;49m\u001B[38;5;124;43m\"\u001B[39;49m\u001B[43m,\u001B[49m\n\u001B[0;32m     11\u001B[0m \u001B[43m    \u001B[49m\u001B[43mverbose\u001B[49m\u001B[38;5;241;43m=\u001B[39;49m\u001B[38;5;28;43;01mTrue\u001B[39;49;00m\u001B[43m,\u001B[49m\u001B[43m \u001B[49m\u001B[38;5;66;43;03m# this will show Blender output during renders\u001B[39;49;00m\n\u001B[0;32m     12\u001B[0m \u001B[43m)\u001B[49m\n",
      "File \u001B[1;32m~\\Desktop\\shap-e\\shap_e\\util\\data_util.py:36\u001B[0m, in \u001B[0;36mload_or_create_multimodal_batch\u001B[1;34m(device, mesh_path, model_path, cache_dir, point_count, random_sample_count, pc_num_views, mv_light_mode, mv_num_views, mv_image_size, mv_alpha_removal, verbose)\u001B[0m\n\u001B[0;32m     34\u001B[0m \u001B[38;5;28;01mif\u001B[39;00m verbose:\n\u001B[0;32m     35\u001B[0m     \u001B[38;5;28mprint\u001B[39m(\u001B[38;5;124m\"\u001B[39m\u001B[38;5;124mcreating point cloud...\u001B[39m\u001B[38;5;124m\"\u001B[39m)\n\u001B[1;32m---> 36\u001B[0m pc \u001B[38;5;241m=\u001B[39m \u001B[43mload_or_create_pc\u001B[49m\u001B[43m(\u001B[49m\n\u001B[0;32m     37\u001B[0m \u001B[43m    \u001B[49m\u001B[43mmesh_path\u001B[49m\u001B[38;5;241;43m=\u001B[39;49m\u001B[43mmesh_path\u001B[49m\u001B[43m,\u001B[49m\n\u001B[0;32m     38\u001B[0m \u001B[43m    \u001B[49m\u001B[43mmodel_path\u001B[49m\u001B[38;5;241;43m=\u001B[39;49m\u001B[43mmodel_path\u001B[49m\u001B[43m,\u001B[49m\n\u001B[0;32m     39\u001B[0m \u001B[43m    \u001B[49m\u001B[43mcache_dir\u001B[49m\u001B[38;5;241;43m=\u001B[39;49m\u001B[43mcache_dir\u001B[49m\u001B[43m,\u001B[49m\n\u001B[0;32m     40\u001B[0m \u001B[43m    \u001B[49m\u001B[43mrandom_sample_count\u001B[49m\u001B[38;5;241;43m=\u001B[39;49m\u001B[43mrandom_sample_count\u001B[49m\u001B[43m,\u001B[49m\n\u001B[0;32m     41\u001B[0m \u001B[43m    \u001B[49m\u001B[43mpoint_count\u001B[49m\u001B[38;5;241;43m=\u001B[39;49m\u001B[43mpoint_count\u001B[49m\u001B[43m,\u001B[49m\n\u001B[0;32m     42\u001B[0m \u001B[43m    \u001B[49m\u001B[43mnum_views\u001B[49m\u001B[38;5;241;43m=\u001B[39;49m\u001B[43mpc_num_views\u001B[49m\u001B[43m,\u001B[49m\n\u001B[0;32m     43\u001B[0m \u001B[43m    \u001B[49m\u001B[43mverbose\u001B[49m\u001B[38;5;241;43m=\u001B[39;49m\u001B[43mverbose\u001B[49m\u001B[43m,\u001B[49m\n\u001B[0;32m     44\u001B[0m \u001B[43m\u001B[49m\u001B[43m)\u001B[49m\n\u001B[0;32m     45\u001B[0m raw_pc \u001B[38;5;241m=\u001B[39m np\u001B[38;5;241m.\u001B[39mconcatenate([pc\u001B[38;5;241m.\u001B[39mcoords, pc\u001B[38;5;241m.\u001B[39mselect_channels([\u001B[38;5;124m\"\u001B[39m\u001B[38;5;124mR\u001B[39m\u001B[38;5;124m\"\u001B[39m, \u001B[38;5;124m\"\u001B[39m\u001B[38;5;124mG\u001B[39m\u001B[38;5;124m\"\u001B[39m, \u001B[38;5;124m\"\u001B[39m\u001B[38;5;124mB\u001B[39m\u001B[38;5;124m\"\u001B[39m])], axis\u001B[38;5;241m=\u001B[39m\u001B[38;5;241m-\u001B[39m\u001B[38;5;241m1\u001B[39m)\n\u001B[0;32m     46\u001B[0m encode_me \u001B[38;5;241m=\u001B[39m torch\u001B[38;5;241m.\u001B[39mfrom_numpy(raw_pc)\u001B[38;5;241m.\u001B[39mfloat()\u001B[38;5;241m.\u001B[39mto(device)\n",
      "File \u001B[1;32m~\\Desktop\\shap-e\\shap_e\\util\\data_util.py:111\u001B[0m, in \u001B[0;36mload_or_create_pc\u001B[1;34m(mesh_path, model_path, cache_dir, random_sample_count, point_count, num_views, verbose)\u001B[0m\n\u001B[0;32m    108\u001B[0m \u001B[38;5;28;01melse\u001B[39;00m:\n\u001B[0;32m    109\u001B[0m     cache_path \u001B[38;5;241m=\u001B[39m \u001B[38;5;28;01mNone\u001B[39;00m\n\u001B[1;32m--> 111\u001B[0m \u001B[38;5;28;01mwith\u001B[39;00m load_or_create_multiview(\n\u001B[0;32m    112\u001B[0m     mesh_path\u001B[38;5;241m=\u001B[39mmesh_path,\n\u001B[0;32m    113\u001B[0m     model_path\u001B[38;5;241m=\u001B[39mmodel_path,\n\u001B[0;32m    114\u001B[0m     cache_dir\u001B[38;5;241m=\u001B[39mcache_dir,\n\u001B[0;32m    115\u001B[0m     num_views\u001B[38;5;241m=\u001B[39mnum_views,\n\u001B[0;32m    116\u001B[0m     verbose\u001B[38;5;241m=\u001B[39mverbose,\n\u001B[0;32m    117\u001B[0m ) \u001B[38;5;28;01mas\u001B[39;00m mv:\n\u001B[0;32m    118\u001B[0m     \u001B[38;5;28;01mif\u001B[39;00m verbose:\n\u001B[0;32m    119\u001B[0m         \u001B[38;5;28mprint\u001B[39m(\u001B[38;5;124m\"\u001B[39m\u001B[38;5;124mextracting point cloud from multiview...\u001B[39m\u001B[38;5;124m\"\u001B[39m)\n",
      "File \u001B[1;32m~\\anaconda3\\envs\\ImplicitWavelet\\lib\\contextlib.py:119\u001B[0m, in \u001B[0;36m_GeneratorContextManager.__enter__\u001B[1;34m(self)\u001B[0m\n\u001B[0;32m    117\u001B[0m \u001B[38;5;28;01mdel\u001B[39;00m \u001B[38;5;28mself\u001B[39m\u001B[38;5;241m.\u001B[39margs, \u001B[38;5;28mself\u001B[39m\u001B[38;5;241m.\u001B[39mkwds, \u001B[38;5;28mself\u001B[39m\u001B[38;5;241m.\u001B[39mfunc\n\u001B[0;32m    118\u001B[0m \u001B[38;5;28;01mtry\u001B[39;00m:\n\u001B[1;32m--> 119\u001B[0m     \u001B[38;5;28;01mreturn\u001B[39;00m \u001B[38;5;28;43mnext\u001B[39;49m\u001B[43m(\u001B[49m\u001B[38;5;28;43mself\u001B[39;49m\u001B[38;5;241;43m.\u001B[39;49m\u001B[43mgen\u001B[49m\u001B[43m)\u001B[49m\n\u001B[0;32m    120\u001B[0m \u001B[38;5;28;01mexcept\u001B[39;00m \u001B[38;5;167;01mStopIteration\u001B[39;00m:\n\u001B[0;32m    121\u001B[0m     \u001B[38;5;28;01mraise\u001B[39;00m \u001B[38;5;167;01mRuntimeError\u001B[39;00m(\u001B[38;5;124m\"\u001B[39m\u001B[38;5;124mgenerator didn\u001B[39m\u001B[38;5;124m'\u001B[39m\u001B[38;5;124mt yield\u001B[39m\u001B[38;5;124m\"\u001B[39m) \u001B[38;5;28;01mfrom\u001B[39;00m \u001B[38;5;28mNone\u001B[39m\n",
      "File \u001B[1;32m~\\Desktop\\shap-e\\shap_e\\util\\data_util.py:182\u001B[0m, in \u001B[0;36mload_or_create_multiview\u001B[1;34m(mesh_path, model_path, cache_dir, num_views, extract_material, light_mode, verbose)\u001B[0m\n\u001B[0;32m    174\u001B[0m     render_mesh(\n\u001B[0;32m    175\u001B[0m         mesh\u001B[38;5;241m=\u001B[39mmesh,\n\u001B[0;32m    176\u001B[0m         output_path\u001B[38;5;241m=\u001B[39mtmp_path,\n\u001B[1;32m   (...)\u001B[0m\n\u001B[0;32m    179\u001B[0m         \u001B[38;5;241m*\u001B[39m\u001B[38;5;241m*\u001B[39mcommon_kwargs,\n\u001B[0;32m    180\u001B[0m     )\n\u001B[0;32m    181\u001B[0m \u001B[38;5;28;01melif\u001B[39;00m model_path \u001B[38;5;129;01mis\u001B[39;00m \u001B[38;5;129;01mnot\u001B[39;00m \u001B[38;5;28;01mNone\u001B[39;00m:\n\u001B[1;32m--> 182\u001B[0m     render_model(\n\u001B[0;32m    183\u001B[0m         model_path,\n\u001B[0;32m    184\u001B[0m         output_path\u001B[38;5;241m=\u001B[39mtmp_path,\n\u001B[0;32m    185\u001B[0m         num_images\u001B[38;5;241m=\u001B[39mnum_views,\n\u001B[0;32m    186\u001B[0m         backend\u001B[38;5;241m=\u001B[39m\u001B[38;5;124m\"\u001B[39m\u001B[38;5;124mBLENDER_EEVEE\u001B[39m\u001B[38;5;124m\"\u001B[39m,\n\u001B[0;32m    187\u001B[0m         \u001B[38;5;241m*\u001B[39m\u001B[38;5;241m*\u001B[39mcommon_kwargs,\n\u001B[0;32m    188\u001B[0m     )\n\u001B[0;32m    189\u001B[0m \u001B[38;5;28;01mif\u001B[39;00m cache_path \u001B[38;5;129;01mis\u001B[39;00m \u001B[38;5;129;01mnot\u001B[39;00m \u001B[38;5;28;01mNone\u001B[39;00m:\n\u001B[0;32m    190\u001B[0m     bf\u001B[38;5;241m.\u001B[39mcopy(tmp_path, cache_path)\n",
      "File \u001B[1;32m~\\Desktop\\shap-e\\shap_e\\rendering\\blender\\render.py:44\u001B[0m, in \u001B[0;36mrender_model\u001B[1;34m(model_path, output_path, num_images, backend, light_mode, camera_pose, camera_dist_min, camera_dist_max, fast_mode, extract_material, delete_material, verbose, timeout)\u001B[0m\n\u001B[0;32m     39\u001B[0m \u001B[38;5;28;01mif\u001B[39;00m platform\u001B[38;5;241m.\u001B[39msystem() \u001B[38;5;241m==\u001B[39m \u001B[38;5;124m\"\u001B[39m\u001B[38;5;124mLinux\u001B[39m\u001B[38;5;124m\"\u001B[39m:\n\u001B[0;32m     40\u001B[0m     \u001B[38;5;66;03m# Needed to enable Eevee backend on headless linux.\u001B[39;00m\n\u001B[0;32m     41\u001B[0m     args \u001B[38;5;241m=\u001B[39m [\u001B[38;5;124m\"\u001B[39m\u001B[38;5;124mxvfb-run\u001B[39m\u001B[38;5;124m\"\u001B[39m, \u001B[38;5;124m\"\u001B[39m\u001B[38;5;124m-a\u001B[39m\u001B[38;5;124m\"\u001B[39m]\n\u001B[0;32m     42\u001B[0m args\u001B[38;5;241m.\u001B[39mextend(\n\u001B[0;32m     43\u001B[0m     [\n\u001B[1;32m---> 44\u001B[0m         \u001B[43m_blender_binary_path\u001B[49m\u001B[43m(\u001B[49m\u001B[43m)\u001B[49m,\n\u001B[0;32m     45\u001B[0m         \u001B[38;5;124m\"\u001B[39m\u001B[38;5;124m-b\u001B[39m\u001B[38;5;124m\"\u001B[39m,\n\u001B[0;32m     46\u001B[0m         \u001B[38;5;124m\"\u001B[39m\u001B[38;5;124m-P\u001B[39m\u001B[38;5;124m\"\u001B[39m,\n\u001B[0;32m     47\u001B[0m         SCRIPT_PATH,\n\u001B[0;32m     48\u001B[0m         \u001B[38;5;124m\"\u001B[39m\u001B[38;5;124m--\u001B[39m\u001B[38;5;124m\"\u001B[39m,\n\u001B[0;32m     49\u001B[0m         \u001B[38;5;124m\"\u001B[39m\u001B[38;5;124m--input_path\u001B[39m\u001B[38;5;124m\"\u001B[39m,\n\u001B[0;32m     50\u001B[0m         tmp_in,\n\u001B[0;32m     51\u001B[0m         \u001B[38;5;124m\"\u001B[39m\u001B[38;5;124m--output_path\u001B[39m\u001B[38;5;124m\"\u001B[39m,\n\u001B[0;32m     52\u001B[0m         tmp_out,\n\u001B[0;32m     53\u001B[0m         \u001B[38;5;124m\"\u001B[39m\u001B[38;5;124m--num_images\u001B[39m\u001B[38;5;124m\"\u001B[39m,\n\u001B[0;32m     54\u001B[0m         \u001B[38;5;28mstr\u001B[39m(num_images),\n\u001B[0;32m     55\u001B[0m         \u001B[38;5;124m\"\u001B[39m\u001B[38;5;124m--backend\u001B[39m\u001B[38;5;124m\"\u001B[39m,\n\u001B[0;32m     56\u001B[0m         backend,\n\u001B[0;32m     57\u001B[0m         \u001B[38;5;124m\"\u001B[39m\u001B[38;5;124m--light_mode\u001B[39m\u001B[38;5;124m\"\u001B[39m,\n\u001B[0;32m     58\u001B[0m         light_mode,\n\u001B[0;32m     59\u001B[0m         \u001B[38;5;124m\"\u001B[39m\u001B[38;5;124m--camera_pose\u001B[39m\u001B[38;5;124m\"\u001B[39m,\n\u001B[0;32m     60\u001B[0m         camera_pose,\n\u001B[0;32m     61\u001B[0m         \u001B[38;5;124m\"\u001B[39m\u001B[38;5;124m--camera_dist_min\u001B[39m\u001B[38;5;124m\"\u001B[39m,\n\u001B[0;32m     62\u001B[0m         \u001B[38;5;28mstr\u001B[39m(camera_dist_min),\n\u001B[0;32m     63\u001B[0m         \u001B[38;5;124m\"\u001B[39m\u001B[38;5;124m--camera_dist_max\u001B[39m\u001B[38;5;124m\"\u001B[39m,\n\u001B[0;32m     64\u001B[0m         \u001B[38;5;28mstr\u001B[39m(camera_dist_max),\n\u001B[0;32m     65\u001B[0m         \u001B[38;5;124m\"\u001B[39m\u001B[38;5;124m--uniform_light_direction\u001B[39m\u001B[38;5;124m\"\u001B[39m,\n\u001B[0;32m     66\u001B[0m         \u001B[38;5;241m*\u001B[39m[\u001B[38;5;28mstr\u001B[39m(x) \u001B[38;5;28;01mfor\u001B[39;00m x \u001B[38;5;129;01min\u001B[39;00m UNIFORM_LIGHT_DIRECTION],\n\u001B[0;32m     67\u001B[0m         \u001B[38;5;124m\"\u001B[39m\u001B[38;5;124m--basic_ambient\u001B[39m\u001B[38;5;124m\"\u001B[39m,\n\u001B[0;32m     68\u001B[0m         \u001B[38;5;28mstr\u001B[39m(BASIC_AMBIENT_COLOR),\n\u001B[0;32m     69\u001B[0m         \u001B[38;5;124m\"\u001B[39m\u001B[38;5;124m--basic_diffuse\u001B[39m\u001B[38;5;124m\"\u001B[39m,\n\u001B[0;32m     70\u001B[0m         \u001B[38;5;28mstr\u001B[39m(BASIC_DIFFUSE_COLOR),\n\u001B[0;32m     71\u001B[0m     ]\n\u001B[0;32m     72\u001B[0m )\n\u001B[0;32m     73\u001B[0m \u001B[38;5;28;01mif\u001B[39;00m fast_mode:\n\u001B[0;32m     74\u001B[0m     args\u001B[38;5;241m.\u001B[39mappend(\u001B[38;5;124m\"\u001B[39m\u001B[38;5;124m--fast_mode\u001B[39m\u001B[38;5;124m\"\u001B[39m)\n",
      "File \u001B[1;32m~\\Desktop\\shap-e\\shap_e\\rendering\\blender\\render.py:142\u001B[0m, in \u001B[0;36m_blender_binary_path\u001B[1;34m()\u001B[0m\n\u001B[0;32m    139\u001B[0m \u001B[38;5;28;01mif\u001B[39;00m os\u001B[38;5;241m.\u001B[39mpath\u001B[38;5;241m.\u001B[39mexists(\u001B[38;5;124m\"\u001B[39m\u001B[38;5;124m/Applications/Blender.app/Contents/MacOS/Blender\u001B[39m\u001B[38;5;124m\"\u001B[39m):\n\u001B[0;32m    140\u001B[0m     \u001B[38;5;28;01mreturn\u001B[39;00m \u001B[38;5;124m\"\u001B[39m\u001B[38;5;124m/Applications/Blender.app/Contents/MacOS/Blender\u001B[39m\u001B[38;5;124m\"\u001B[39m\n\u001B[1;32m--> 142\u001B[0m \u001B[38;5;28;01mraise\u001B[39;00m \u001B[38;5;167;01mEnvironmentError\u001B[39;00m(\n\u001B[0;32m    143\u001B[0m     \u001B[38;5;124m\"\u001B[39m\u001B[38;5;124mTo render 3D models, install Blender version 3.3.1 or higher and \u001B[39m\u001B[38;5;124m\"\u001B[39m\n\u001B[0;32m    144\u001B[0m     \u001B[38;5;124m\"\u001B[39m\u001B[38;5;124mset the environment variable `BLENDER_PATH` to the path of the Blender executable.\u001B[39m\u001B[38;5;124m\"\u001B[39m\n\u001B[0;32m    145\u001B[0m )\n",
      "\u001B[1;31mOSError\u001B[0m: To render 3D models, install Blender version 3.3.1 or higher and set the environment variable `BLENDER_PATH` to the path of the Blender executable."
     ]
    }
   ],
   "source": [
    "model_path = \"example_data/cactus/object.obj\"\n",
    "\n",
    "# This may take a few minutes, since it requires rendering the model twice\n",
    "# in two different modes.\n",
    "batch = load_or_create_multimodal_batch(\n",
    "    device,\n",
    "    model_path=model_path,\n",
    "    mv_light_mode=\"basic\",\n",
    "    mv_image_size=256,\n",
    "    cache_dir=\"example_data/cactus/cached\",\n",
    "    verbose=True, # this will show Blender output during renders\n",
    ")"
   ]
  },
  {
   "cell_type": "code",
   "execution_count": null,
   "metadata": {},
   "outputs": [],
   "source": [
    "with torch.no_grad():\n",
    "    latent = xm.encoder.encode_to_bottleneck(batch)\n",
    "\n",
    "    render_mode = 'stf' # you can change this to 'nerf'\n",
    "    size = 128 # recommended that you lower resolution when using nerf\n",
    "\n",
    "    cameras = create_pan_cameras(size, device)\n",
    "    images = decode_latent_images(xm, latent, cameras, rendering_mode=render_mode)\n",
    "    display(gif_widget(images))"
   ]
  }
 ],
 "metadata": {
  "kernelspec": {
   "display_name": "Python 3 (ipykernel)",
   "language": "python",
   "name": "python3"
  },
  "language_info": {
   "codemirror_mode": {
    "name": "ipython",
    "version": 3
   },
   "file_extension": ".py",
   "mimetype": "text/x-python",
   "name": "python",
   "nbconvert_exporter": "python",
   "pygments_lexer": "ipython3",
   "version": "3.9.9"
  }
 },
 "nbformat": 4,
 "nbformat_minor": 5
}